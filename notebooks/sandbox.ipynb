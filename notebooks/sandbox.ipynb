{
 "cells": [
  {
   "cell_type": "code",
   "execution_count": null,
   "metadata": {},
   "outputs": [],
   "source": [
    "from aisurveywriter.tasks import ReferenceExtractor\n",
    "from aisurveywriter.core.llm_handler import LLMHandler\n",
    "import aisurveywriter.core.file_handler as fh\n",
    "from aisurveywriter.utils import get_all_files_from_paths\n",
    "from aisurveywriter.core.pipeline import PaperPipeline\n",
    "from aisurveywriter.core.paper import PaperData\n",
    "import aisurveywriter.tasks as tks\n",
    "\n",
    "import os\n",
    "os.environ[\"GOOGLE_API_KEY\"]=fh.read_credentials(\"../credentials.yaml\")[\"google_key\"]\n",
    "\n",
    "llm = LLMHandler(model=\"gemini-2.0-pro-exp\", model_type=\"google\", temperature=0.5)\n",
    "prompts = fh.read_yaml(\"../templates/prompt_config.yaml\")\n",
    "review = fh.read_yaml(\"../templates/review_config.yaml\")\n",
    "\n",
    "paper = PaperData.from_tex(\"../out/generated-revref.tex\", subject=\"Langmuir and Langmuir-Blodgett Films\")\n",
    "# refs = tks.PaperReferencer(llm, bibdb_path=\"../out/generated-bibdb.bib\", prompt=\"nada\")\n",
    "# with open(refs.bibdb_path, \"r\", encoding=\"utf-8\") as f:\n",
    "#     bibdb = f.read()\n",
    "# refs._dump_used_bib(paper, bibdb_content=bibdb, save_path=\"../out/generated-used.bib\")\n",
    "\n",
    "pipe = PaperPipeline([\n",
    "    (\"Read Paper\", tks.DeliverTask(paper)),\n",
    "    (\"Abstract and Title\", tks.PaperRefiner(llm, prompt=prompts[\"refine_prompt\"], cooldown_sec=70)),\n",
    "    (\"ReviewTex\", tks.TexReviewer(llm, review[\"tex_review_prompt\"])),\n",
    "    (\"SaveFinal\", tks.PaperSaver(\"../out/generated.tex\", \"../templates/paper_template.tex\", find_bib_pattern=None)),\n",
    "])\n",
    "pipe.run()"
   ]
  }
 ],
 "metadata": {
  "kernelspec": {
   "display_name": "llm",
   "language": "python",
   "name": "python3"
  },
  "language_info": {
   "codemirror_mode": {
    "name": "ipython",
    "version": 3
   },
   "file_extension": ".py",
   "mimetype": "text/x-python",
   "name": "python",
   "nbconvert_exporter": "python",
   "pygments_lexer": "ipython3",
   "version": "3.12.8"
  }
 },
 "nbformat": 4,
 "nbformat_minor": 2
}
