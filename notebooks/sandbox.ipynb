{
 "cells": [
  {
   "cell_type": "code",
   "execution_count": null,
   "metadata": {},
   "outputs": [],
   "source": [
    "# ENVIRONMENT\n",
    "\n",
    "from aisurveywriter.core.llm_handler import LLMHandler\n",
    "import aisurveywriter.core.file_handler as fh\n",
    "from aisurveywriter.utils import get_all_files_from_paths\n",
    "from aisurveywriter.core.pipeline import PaperPipeline\n",
    "from aisurveywriter.core.paper import PaperData\n",
    "import aisurveywriter.tasks as tks\n",
    "\n",
    "import os\n",
    "os.environ[\"GOOGLE_API_KEY\"]=fh.read_credentials(\"../credentials.yaml\")[\"google_key\"]\n",
    "\n",
    "# llm = LLMHandler(model=\"qwen2.5:14b\", model_type=\"ollama\", temperature=0.5)\n",
    "prompts = fh.read_yaml(\"../templates/prompt_config.yaml\")\n",
    "review = fh.read_yaml(\"../templates/review_config.yaml\")"
   ]
  },
  {
   "cell_type": "code",
   "execution_count": null,
   "metadata": {},
   "outputs": [],
   "source": [
    "# Serialize default prompt store\n",
    "\n",
    "from aisurveywriter.store.prompt_store import PromptStore, default_prompt_store\n",
    "import json\n",
    "\n",
    "old = default_prompt_store()\n",
    "\n",
    "with open(\"prompts-24022025.json\", \"w\", encoding=\"utf-8\") as f:\n",
    "    json.dump(old.model_dump(), f, indent=2)"
   ]
  },
  {
   "cell_type": "code",
   "execution_count": null,
   "metadata": {},
   "outputs": [],
   "source": [
    "# Manual RAG retrieval\n",
    "\n",
    "from aisurveywriter.core.agent_rags import AgentRAG, RAGType\n",
    "from aisurveywriter.core.text_embedding import EmbeddingsHandler\n",
    "\n",
    "embed = EmbeddingsHandler(\"Snowflake/snowflake-arctic-embed-l-v2.0\", \"huggingface\")\n",
    "rag = AgentRAG(embed, bib_faiss_path=\"../out/refextract-bibdb.faiss\", figures_faiss_path=\"../out/figures-rag.faiss\", content_faiss_path=\"../out/content-rag.faiss\",\n",
    "               request_cooldown_sec=6)\n",
    "\n",
    "query = r\"Schematic representation of a Langmuir trough that contains the Wilhelmy plate for measuring surface pressure using an electrobalance and a surface potential probe.   Also shown is the dipper employed for transferring Langmuir/Blodgett onto a solid substrate\"\n",
    "rag.retrieve(RAGType.ImageData, query)"
   ]
  },
  {
   "cell_type": "code",
   "execution_count": null,
   "metadata": {},
   "outputs": [],
   "source": [
    "# image caption extraction test\n",
    "from aisurveywriter.core.pdf_processor import PDFProcessor\n",
    "\n",
    "pdf = PDFProcessor([\"../refexamples/filter-artigos-rafael/103.pdf\"])\n",
    "images = pdf.extract_images(\"test\")\n"
   ]
  },
  {
   "cell_type": "code",
   "execution_count": null,
   "metadata": {},
   "outputs": [],
   "source": [
    "print(\"\\n\".join([f\"{i}: {image.caption}\" for i,image in enumerate(images)]))"
   ]
  },
  {
   "cell_type": "code",
   "execution_count": null,
   "metadata": {},
   "outputs": [],
   "source": [
    "text = pdf.pdf_documents[0][9].page_content\n",
    "# text = text[text.find(\"9.\"):]\n",
    "print(text)"
   ]
  }
 ],
 "metadata": {
  "kernelspec": {
   "display_name": "llm",
   "language": "python",
   "name": "python3"
  },
  "language_info": {
   "codemirror_mode": {
    "name": "ipython",
    "version": 3
   },
   "file_extension": ".py",
   "mimetype": "text/x-python",
   "name": "python",
   "nbconvert_exporter": "python",
   "pygments_lexer": "ipython3",
   "version": "3.12.9"
  }
 },
 "nbformat": 4,
 "nbformat_minor": 2
}
