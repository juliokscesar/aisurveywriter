{
 "cells": [
  {
   "cell_type": "markdown",
   "metadata": {},
   "source": [
    "# LangChain test"
   ]
  },
  {
   "cell_type": "code",
   "execution_count": 1,
   "metadata": {},
   "outputs": [],
   "source": [
    "import os\n",
    "os.environ[\"GOOGLE_API_KEY\"]=GOOGLE_API_KEY"
   ]
  },
  {
   "cell_type": "code",
   "execution_count": 2,
   "metadata": {},
   "outputs": [
    {
     "name": "stderr",
     "output_type": "stream",
     "text": [
      "/home/julio/Dev/SCG_IFSC/aisurveywriter/.venv/lib/python3.12/site-packages/tqdm/auto.py:21: TqdmWarning: IProgress not found. Please update jupyter and ipywidgets. See https://ipywidgets.readthedocs.io/en/stable/user_install.html\n",
      "  from .autonotebook import tqdm as notebook_tqdm\n"
     ]
    }
   ],
   "source": [
    "from langchain_google_genai import ChatGoogleGenerativeAI\n",
    "\n",
    "llm = ChatGoogleGenerativeAI(model=\"gemini-1.5-flash\")"
   ]
  },
  {
   "cell_type": "code",
   "execution_count": null,
   "metadata": {},
   "outputs": [],
   "source": [
    "from langchain_core.messages import HumanMessage\n",
    "\n",
    "llm.invoke([HumanMessage(content=\"Write a poem about the moon\")])"
   ]
  },
  {
   "cell_type": "code",
   "execution_count": 7,
   "metadata": {},
   "outputs": [],
   "source": [
    "# Get pdf data from references\n",
    "from langchain.document_loaders import PyPDFLoader\n",
    "\n",
    "pdf_files = [\n",
    "    \"../refexamples/ArigaK2023_Langmuir.pdf\",\n",
    "    \"../refexamples/FangC_ApplicationsLangmuir.pdf\",\n",
    "]\n",
    "doc_data = []\n",
    "for file in pdf_files:\n",
    "    loader = PyPDFLoader(file)\n",
    "    doc_data.extend(loader.load())"
   ]
  },
  {
   "cell_type": "code",
   "execution_count": 8,
   "metadata": {},
   "outputs": [],
   "source": [
    "import yaml\n",
    "from langchain.prompts import PromptTemplate\n",
    "\n",
    "with open(\"../paper_instructions.yaml\", \"r\") as f:\n",
    "    paper = yaml.safe_load(f)\n",
    "\n",
    "pdf_data = \"\\n\".join([doc.page_content for doc in doc_data])\n",
    "prompt_fmt = paper[\"base_prompt_format\"] + \"\\n\\nThe accompanying PDF data for the references is:\\n{pdf_data}\"\n",
    "prep_instructions = paper[\"preparation_instructions\"]\n",
    "prompt = PromptTemplate(\n",
    "    input_variables=[\"preparation_instructions\", \"title\", \"subject\", \"description\"],\n",
    "    template=paper[\"base_prompt_format\"],\n",
    ")"
   ]
  },
  {
   "cell_type": "code",
   "execution_count": 10,
   "metadata": {},
   "outputs": [],
   "source": [
    "from langchain.chains import LLMChain\n",
    "\n",
    "chain = LLMChain(llm=llm, prompt=prompt)\n",
    "gen_sections = []\n",
    "\n",
    "for section in paper[\"sections\"]:\n",
    "    response = chain.run({\n",
    "        \"preparation_instructions\": prep_instructions,\n",
    "        \"subject\": paper[\"subject\"],\n",
    "        \"pdf_data\": pdf_data,\n",
    "        \"title\": section[\"title\"],\n",
    "        \"description\": section[\"description\"],\n",
    "    })\n",
    "    gen_sections.append({\"title\": section[\"title\"], \"content\": response})"
   ]
  },
  {
   "cell_type": "code",
   "execution_count": 11,
   "metadata": {},
   "outputs": [
    {
     "name": "stdout",
     "output_type": "stream",
     "text": [
      "[{'title': 'Introduction', 'content': '\\\\documentclass{article}\\n\\\\usepackage{tikz}\\n\\\\usepackage{graphicx}\\n\\n\\\\begin{document}\\n\\n\\\\section{Introduction}\\n\\n\\\\subsection{Definition and Importance of Langmuir Monolayers and Langmuir-Blodgett Films}\\n\\nLangmuir monolayers (LMs) and Langmuir-Blodgett (LB) films are ultrathin, organized molecular assemblies formed at the air-water interface and subsequently transferred onto solid substrates (KUMARESAN et al., 2022).  LMs are essentially a single layer of amphiphilic molecules, possessing both hydrophilic (water-loving) and hydrophobic (water-repelling) portions, spontaneously self-assembling at the air-water interface to minimize their free energy (PETTY, 1996).  The hydrophobic tails are oriented away from the water, while the hydrophilic heads are immersed in the water subphase.  By carefully compressing this monolayer using a movable barrier, a highly ordered, two-dimensional structure can be achieved, allowing for precise control over molecular packing and orientation (ROBERTS, 1990).  LB films are created by transferring these compressed monolayers onto a solid substrate through a controlled dipping process. This sequential deposition allows for the creation of multilayers with precisely controlled thickness and molecular architecture (HONG, 2022).  The ability to control the molecular arrangement and layer-by-layer deposition makes LB films a powerful tool in nanoscience and nanotechnology (CHANDRASEKARAN et al., 2003).\\n\\nThe importance of LMs and LB films stems from their unique combination of properties.  Their precise molecular organization enables the creation of materials with tailored functionalities, providing a bottom-up approach to nanofabrication (PETTY, 1996). The ability to control the film thickness at the molecular level, along with the possibility of incorporating different molecules into the same film, significantly broadens the range of applications. This high degree of control over film structure and composition is crucial for creating functional devices with tailored properties (KUMARESAN et al., 2022).  The ability to engineer the properties of LB films makes them attractive for various applications, including electronics, sensors, biomedicine, and catalysis (HONG, 2022). For instance, LB films have been used to create organic field-effect transistors (OFETs) (CHANDRASEKARAN et al., 2003), biosensors (PETTY, 1996), and drug delivery systems (KUMARESAN et al., 2022).\\n\\n\\n\\\\subsection{Comparison with Similar Thin-Film Techniques}\\n\\nLB films are not the only method for creating thin films with molecular precision.  Other techniques, such as self-assembled monolayers (SAMs) and layer-by-layer (LbL) assembly, also offer unique advantages and disadvantages. SAMs are formed through the spontaneous adsorption of organic molecules onto a solid substrate, resulting in a monolayer with a well-defined structure (Ulman, 1991).  While SAMs offer simplicity and scalability, their control over molecular arrangement and multilayer formation is less precise than LB films (Love et al., 2005).  LbL assembly involves the sequential deposition of oppositely charged polyelectrolytes or other molecules, creating multilayer films with controlled thickness and composition (Decher, 1997).  LbL offers good control over film thickness and composition, however, the precision at the molecular level is generally lower than that achievable with LB films.  Furthermore, the versatility in terms of molecular selection is potentially less broad than with LB films.\\n\\nCompared to SAMs and LbL films, LB films offer superior control over molecular orientation and arrangement within the film (ROBERTS, 1990). The ability to create highly ordered multilayers with precise control over layer thickness and composition is a significant advantage for applications requiring specific molecular arrangements. However, the scalability of LB film fabrication is often limited, and the process can be more time-consuming and complex than SAM or LbL deposition (Love et al., 2005). The choice of technique depends on the specific application requirements, balancing the need for molecular precision, scalability, and versatility.\\n\\n\\\\begin{figure}[h!]\\n\\\\centering\\n\\\\begin{tikzpicture}[scale=0.8]\\n% LB\\n\\\\draw (0,0) rectangle (2,1);\\n\\\\node at (1,0.5) {LB};\\n\\\\draw[<->] (2,0) -- (2,1) node[midway,right] {Monolayer};\\n\\\\draw[<->] (0,1) -- (2,1) node[midway,above] {Transfer};\\n\\n% SAM\\n\\\\draw (4,0) rectangle (6,0.5);\\n\\\\node at (5,0.25) {SAM};\\n\\\\draw[decorate,decoration={snake,amplitude=.4mm,segment length=2mm,post length=1mm}] (6,0) -- (6,0.5);\\n\\n% LbL\\n\\\\draw (8,0) rectangle (10,1.5);\\n\\\\node at (9,0.75) {LbL};\\n\\\\draw[<->] (8,0) -- (8,1.5) node[midway,left] {Multiple Layers};\\n\\\\end{tikzpicture}\\n\\\\caption{Schematic comparison of LB, SAM, and LbL film deposition techniques.}\\n\\\\end{figure}\\n\\n\\n\\\\end{document}\\n\\n\\n\\\\begin{thebibliography}{9}\\n\\\\bibitem{Chandrasekaran2003} Chandrasekaran, K., et al. (2003). Langmuir-Blodgett films for organic electronics. \\\\textit{Materials Science and Engineering: C}, \\\\textit{23}(1-2), 113-119.\\n\\\\bibitem{Decher1997} Decher, G. (1997). Fuzzy nanoassemblies: Toward layered polymeric multicomposites. \\\\textit{Science}, \\\\textit{277}(5330), 1232-1237.\\n\\\\bibitem{Hong2022} Hong, S. (2022). Langmuir-Blodgett films: Fabrication, characterization, and applications. In \\\\textit{Langmuir-Blodgett Films: Fabrication, Characterization, and Applications} (pp. 1-10). IntechOpen.\\n\\\\bibitem{Kumaresan2022} Kumaresan, A., et al. (2022). Advanced Langmuir-Blodgett Films and Their Applications in Biomedical Engineering. \\\\textit{Biomedical Engineering Letters}, \\\\textit{12}(1), 30-49.\\n\\\\bibitem{Love2005} Love, J. C., et al. (2005). Self-assembled monolayers of thiolates on metals as a form of nanotechnology. \\\\textit{Chemical reviews}, \\\\textit{105}(4), 1103-1170.\\n\\\\bibitem{Petty1996} Petty, M. C. (1996). \\\\textit{Langmuir-Blodgett films: an introduction}. Cambridge University Press.\\n\\\\bibitem{Roberts1990} Roberts, G. G. (1990). \\\\textit{Langmuir-Blodgett films}. Springer Science \\\\& Business Media.\\n\\\\bibitem{Ulman1991} Ulman, A. (1991). An introduction to ultrathin organic films: from Langmuir-Blodgett to self-assembly. Academic press.\\n\\n\\\\end{thebibliography}\\n'}, {'title': 'Historical Perspective', 'content': '\\\\documentclass{article}\\n\\\\usepackage{tikz}\\n\\\\usepackage{graphicx}\\n\\n\\\\begin{document}\\n\\n\\\\section{Historical Perspective}\\n\\n\\\\subsection{Origins and Early Development}\\n\\nThe story of Langmuir monolayers and Langmuir-Blodgett (LB) films begins with a remarkable observation made by Agnes Pockels in 1891.  Working in her home kitchen, Pockels ingeniously devised a simple apparatus to study the surface tension of water, using a rectangular frame with a sliding plate to measure the force required to change the surface area (Pockels, 1891). Her meticulous experiments revealed the impact of dissolved substances on surface tension, laying the groundwork for future investigations.  This pioneering work, published in Nature, demonstrated the sensitivity of surface tension to the presence of even minute amounts of organic substances, a critical observation for the development of the field (Pockels, 1891).  Pockels\\' work, though largely unrecognized initially, provided crucial insights into the behavior of molecules at the air-water interface (Adamson, 1990).\\n\\nIrving Langmuir, building upon Pockels\\' foundational work, significantly advanced the understanding of monomolecular films (Langmuir, 1917).  Langmuir employed a more sophisticated experimental setup, the Langmuir trough, allowing for precise control of the surface area and pressure of the monolayer (Langmuir, 1917). His research, conducted at General Electric, focused on the behavior of fatty acids spread on water surfaces.  Langmuir\\'s experiments revealed the formation of well-defined, ordered monolayers, and he established the relationship between the surface pressure, area per molecule, and the molecular structure of the amphiphilic molecules (Langmuir, 1917). This seminal work provided a quantitative understanding of the structure and behavior of monolayers, solidifying the foundation for the field (Blodgett, 1935).  His work also introduced the concept of the \"Langmuir trough\" as a key instrument for monolayer studies (Langmuir, 1917).  Further research by Langmuir elucidated the influence of various factors, including temperature and pH, on the properties of the monolayers (Langmuir, 1917).\\n\\nKatharine Blodgett, working in Langmuir\\'s laboratory, made a crucial advancement by developing a method to transfer Langmuir monolayers onto solid substrates, creating Langmuir-Blodgett (LB) films (Blodgett, 1935).  Blodgett\\'s technique involved the repeated vertical dipping of a solid substrate through a monolayer at the air-water interface (Blodgett, 1935). This process allowed for the construction of multilayers with precisely controlled thicknesses, opening up new avenues for materials science and applications (Blodgett, 1935).  The development of the LB technique marked a significant milestone, enabling the creation of thin films with unique optical, electrical, and mechanical properties (Blodgett, 1935).  The ability to precisely control the thickness and layer-by-layer deposition was transformative for the field (Blodgett, 1935).\\n\\n\\n\\\\subsection{Evolution and Progress}\\n\\nFollowing the pioneering work of Langmuir and Blodgett, the field witnessed significant advancements.  The development of new materials, including synthetic polymers and conjugated molecules, expanded the range of properties achievable in LB films (Roberts, 1990).  Improvements in deposition techniques, such as the use of different dipping speeds and surface pressures, allowed for finer control over film structure and morphology (Roberts, 1990).  Furthermore, the development of advanced characterization methods, including X-ray diffraction, electron microscopy, and various spectroscopic techniques, provided detailed insights into the structure and properties of LB films (Roberts, 1990).\\n\\nThe applications of LB films expanded rapidly, moving beyond fundamental studies to encompass diverse fields.  The unique properties of LB films, such as their precise thickness control and ability to incorporate functional molecules, made them attractive for various applications.  These include sensors (Roberts, 1990), electronics (Roberts, 1990), catalysis (Ulman, 1991), and biomaterials (Ulman, 1991). The ability to create highly ordered, functionalized surfaces has opened up new opportunities in areas such as biosensors (Ulman, 1991) and drug delivery (Ulman, 1991). For example, the controlled deposition of biomolecules on LB films allowed for the development of biosensors with enhanced sensitivity and selectivity (Ulman, 1991).  The versatility of LB films has led to ongoing exploration of new applications, demonstrating the enduring relevance of this technique.\\n\\n\\n\\\\begin{thebibliography}{9}\\n\\\\bibitem{Adamson1990} Adamson, A. W. (1990). \\\\textit{Physical chemistry of surfaces}. John Wiley \\\\& Sons.\\n\\\\bibitem{Blodgett1935} Blodgett, K. B. (1935). Films built by depositing successive monomolecular layers on a solid surface. \\\\textit{Journal of the American Chemical Society}, \\\\textit{57}(6), 1007-1022.\\n\\\\bibitem{Langmuir1917} Langmuir, I. (1917). The constitution and fundamental properties of solids and liquids. II. Liquids. \\\\textit{Journal of the American Chemical Society}, \\\\textit{39}(9), 1848-1906.\\n\\\\bibitem{Pockels1891} Pockels, A. (1891). Surface tension. \\\\textit{Nature}, \\\\textit{43}(1111), 437-439.\\n\\\\bibitem{Roberts1990} Roberts, G. G. (1990). \\\\textit{Langmuir-Blodgett films}. Plenum Press.\\n\\\\bibitem{Ulman1991} Ulman, A. (1991). \\\\textit{An introduction to ultrathin organic films from Langmuir-Blodgett to self-assembly}. Academic press.\\n\\\\end{thebibliography}\\n\\n\\\\end{document}\\n'}]\n"
     ]
    }
   ],
   "source": [
    "print(gen_sections)"
   ]
  },
  {
   "cell_type": "code",
   "execution_count": 13,
   "metadata": {},
   "outputs": [],
   "source": [
    "dump = {\"sections\": gen_sections}\n",
    "with open(\"generated20241213\", \"w\") as f:\n",
    "    yaml.dump(dump, f)"
   ]
  }
 ],
 "metadata": {
  "kernelspec": {
   "display_name": ".venv",
   "language": "python",
   "name": "python3"
  },
  "language_info": {
   "codemirror_mode": {
    "name": "ipython",
    "version": 3
   },
   "file_extension": ".py",
   "mimetype": "text/x-python",
   "name": "python",
   "nbconvert_exporter": "python",
   "pygments_lexer": "ipython3",
   "version": "3.12.7"
  }
 },
 "nbformat": 4,
 "nbformat_minor": 2
}
