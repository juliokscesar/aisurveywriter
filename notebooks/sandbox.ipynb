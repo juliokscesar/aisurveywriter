{
 "cells": [
  {
   "cell_type": "code",
   "execution_count": 1,
   "metadata": {},
   "outputs": [],
   "source": [
    "from aisurveywriter.tasks import ReferenceExtractor\n",
    "from aisurveywriter.core.llm_handler import LLMHandler\n",
    "import aisurveywriter.core.file_handler as fh\n",
    "from aisurveywriter.utils import get_all_files_from_paths\n",
    "from aisurveywriter.core.pipeline import PaperPipeline\n",
    "from aisurveywriter.core.paper import PaperData\n",
    "import aisurveywriter.tasks as tks\n",
    "\n",
    "import os\n",
    "os.environ[\"GOOGLE_API_KEY\"]=fh.read_credentials(\"../credentials.yaml\")[\"google_key\"]\n",
    "\n",
    "# llm = LLMHandler(model=\"qwen2.5:14b\", model_type=\"ollama\", temperature=0.5)\n",
    "prompts = fh.read_yaml(\"../templates/prompt_config.yaml\")\n",
    "review = fh.read_yaml(\"../templates/review_config.yaml\")\n",
    "\n",
    "\n",
    "# ref = tks.ReferenceExtractor(llm, ref_paths=[\"../refexamples/ArigaK2023_ChemOfMat.pdf\"],\n",
    "#                              prompt=prompts[\"reference_extract_prompt\"],\n",
    "#                              raw_save_path=\"raw.ref\", rawbib_save_path=\"raw.bib\",\n",
    "#                              bib_save_path=\"final.bib\", cooldown_sec=0)\n",
    "# ref()"
   ]
  },
  {
   "cell_type": "code",
   "execution_count": 2,
   "metadata": {},
   "outputs": [],
   "source": [
    "import bibtexparser\n",
    "from langchain_community.docstore.document import Document\n",
    "\n",
    "\n",
    "# Load the .bib file\n",
    "def load_bibtex_entries(bib_file):\n",
    "    with open(bib_file, \"r\", encoding=\"utf-8\") as f:\n",
    "        bib_database = bibtexparser.load(f)\n",
    "\n",
    "    entries = []\n",
    "    for entry in bib_database.entries:\n",
    "        title = entry.get(\"title\", \"No Title\")\n",
    "        abstract = entry.get(\"abstract\", \"\")\n",
    "        keywords = entry.get(\"keywords\", \"\")\n",
    "        authors = entry.get(\"author\", \"\")\n",
    "\n",
    "        # Combine relevant fields for embedding\n",
    "        content = f\"Title: {title}\\nAbstract: {abstract}\\nKeywords: {keywords}\\nAuthors: {authors}\"\n",
    "        entries.append(Document(page_content=content, metadata={\"citation_key\": entry.get(\"ID\", \"Unknown\")}))\n",
    "    \n",
    "    return entries\n",
    "\n",
    "# Path to your .bib file\n",
    "bib_file_path = \"../out/generated-bibdb.bib\"\n",
    "documents = load_bibtex_entries(bib_file_path)\n"
   ]
  },
  {
   "cell_type": "code",
   "execution_count": null,
   "metadata": {},
   "outputs": [],
   "source": [
    "from langchain_google_genai import GoogleGenerativeAIEmbeddings\n",
    "from langchain_community.vectorstores import FAISS\n",
    "from langchain_text_splitters import CharacterTextSplitter\n",
    "\n",
    "embedding_model = GoogleGenerativeAIEmbeddings(model=\"models/text-embedding-004\")\n",
    "text_splitter = CharacterTextSplitter(chunk_size=1000, chunk_overlap=0)\n",
    "docs = text_splitter.split_documents(documents)\n",
    "\n",
    "vector_store = FAISS.from_documents(docs, embedding_model)\n",
    "vector_store.save_local(\"googleembed_faiss_bib_db\")"
   ]
  },
  {
   "cell_type": "code",
   "execution_count": null,
   "metadata": {},
   "outputs": [],
   "source": [
    "%pip install faiss-cpu"
   ]
  },
  {
   "cell_type": "code",
   "execution_count": 7,
   "metadata": {},
   "outputs": [],
   "source": [
    "from aisurveywriter.core.paper import PaperData\n",
    "\n",
    "paper = PaperData.from_tex(\"../out/generated.tex\", subject=\"Langmuir and Langmuir-Blodgett films\")"
   ]
  },
  {
   "cell_type": "code",
   "execution_count": null,
   "metadata": {},
   "outputs": [],
   "source": [
    "print(paper)"
   ]
  },
  {
   "cell_type": "code",
   "execution_count": null,
   "metadata": {},
   "outputs": [],
   "source": [
    "results = vector_store.similarity_search(paper.sections[4].content, k=30)\n",
    "print(results[-22])"
   ]
  },
  {
   "cell_type": "code",
   "execution_count": null,
   "metadata": {},
   "outputs": [],
   "source": [
    "from aisurveywriter.tasks.paper_faiss_ref import PaperFAISSReferencer, PaperData\n",
    "from aisurveywriter.core.text_embedding import load_embeddings\n",
    "\n",
    "paper = PaperData.from_tex(\"../out/generated.tex\", subject=\"Langmuir and Langmuir-Blodgett films\")\n",
    "paper.sections = paper.sections[1:]\n",
    "\n",
    "embed = load_embeddings(\"Alibaba-NLP/gte-Qwen2-1.5B-instruct\", \"huggingface\")\n",
    "ref = PaperFAISSReferencer(embed, \"../bib/refextract-21papers.bib\", local_faissdb_path=\"../bib/qwen2-1.5b\", save_usedbib_path=\"temp/test.bib\", \n",
    "                           save_faiss_path=\"temp/qwen2-1.5b\", max_per_section=40, max_per_sentence=1,confidence=0.9)\n",
    "\n",
    "paper = ref.reference(paper)"
   ]
  },
  {
   "cell_type": "code",
   "execution_count": null,
   "metadata": {},
   "outputs": [],
   "source": [
    "paper = PaperData.from_tex(\"../out/generated.tex\")\n",
    "print([s.title for s in paper.sections])"
   ]
  },
  {
   "cell_type": "code",
   "execution_count": null,
   "metadata": {},
   "outputs": [],
   "source": [
    "print(paper.full_content())"
   ]
  },
  {
   "cell_type": "code",
   "execution_count": 4,
   "metadata": {},
   "outputs": [],
   "source": [
    "from aisurveywriter.core.latex_handler import write_latex\n",
    "\n",
    "write_latex(\"../templates/paper_template.tex\", paper, \"temp/test.tex\", \"temp/test.bib\")"
   ]
  },
  {
   "cell_type": "code",
   "execution_count": null,
   "metadata": {},
   "outputs": [],
   "source": [
    "print(paper)"
   ]
  }
 ],
 "metadata": {
  "kernelspec": {
   "display_name": "llm",
   "language": "python",
   "name": "python3"
  },
  "language_info": {
   "codemirror_mode": {
    "name": "ipython",
    "version": 3
   },
   "file_extension": ".py",
   "mimetype": "text/x-python",
   "name": "python",
   "nbconvert_exporter": "python",
   "pygments_lexer": "ipython3",
   "version": "3.12.8"
  }
 },
 "nbformat": 4,
 "nbformat_minor": 2
}
