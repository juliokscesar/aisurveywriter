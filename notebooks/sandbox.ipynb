{
 "cells": [
  {
   "cell_type": "code",
   "execution_count": 1,
   "metadata": {},
   "outputs": [],
   "source": [
    "# ENVIRONMENT\n",
    "\n",
    "from aisurveywriter.tasks import ReferenceExtractor\n",
    "from aisurveywriter.core.llm_handler import LLMHandler\n",
    "import aisurveywriter.core.file_handler as fh\n",
    "from aisurveywriter.utils import get_all_files_from_paths\n",
    "from aisurveywriter.core.pipeline import PaperPipeline\n",
    "from aisurveywriter.core.paper import PaperData\n",
    "import aisurveywriter.tasks as tks\n",
    "\n",
    "import os\n",
    "os.environ[\"GOOGLE_API_KEY\"]=fh.read_credentials(\"../credentials.yaml\")[\"google_key\"]\n",
    "\n",
    "# llm = LLMHandler(model=\"qwen2.5:14b\", model_type=\"ollama\", temperature=0.5)\n",
    "prompts = fh.read_yaml(\"../templates/prompt_config.yaml\")\n",
    "review = fh.read_yaml(\"../templates/review_config.yaml\")\n",
    "\n",
    "\n",
    "# ref = tks.ReferenceExtractor(llm, ref_paths=[\"../refexamples/ArigaK2023_ChemOfMat.pdf\"],\n",
    "#                              prompt=prompts[\"reference_extract_prompt\"],\n",
    "#                              raw_save_path=\"raw.ref\", rawbib_save_path=\"raw.bib\",\n",
    "#                              bib_save_path=\"final.bib\", cooldown_sec=0)\n",
    "# ref()"
   ]
  },
  {
   "cell_type": "code",
   "execution_count": null,
   "metadata": {},
   "outputs": [],
   "source": [
    "from aisurveywriter.tasks.paper_faiss_ref import PaperFAISSReferencer, PaperData\n",
    "from aisurveywriter.core.text_embedding import load_embeddings\n",
    "from aisurveywriter.core.latex_handler import write_latex\n",
    "\n",
    "paper = PaperData.from_tex(\"../out/generated.tex\", subject=\"Langmuir and Langmuir-Blodgett films\")\n",
    "paper.sections = paper.sections[1:]\n",
    "\n",
    "embed = load_embeddings(\"Alibaba-NLP/gte-Qwen2-1.5B-instruct\", \"huggingface\")\n",
    "ref = PaperFAISSReferencer(embed, \"../bib/refextract-21papers.bib\", local_faissdb_path=\"../bib/qwen2-1.5b\", save_usedbib_path=\"temp/test.bib\", \n",
    "                           save_faiss_path=\"temp/qwen2-1.5b\", max_per_section=40, max_per_sentence=1,confidence=0.9)\n",
    "\n",
    "paper = ref.reference(paper)\n",
    "write_latex(\"../templates/paper_template.tex\", paper, \"temp/test.tex\", bib_path=\"temp/test.bib\")"
   ]
  },
  {
   "cell_type": "code",
   "execution_count": null,
   "metadata": {},
   "outputs": [],
   "source": [
    "from aisurveywriter.tasks.figure_extractor import FigureExtractor, PaperData\n",
    "from aisurveywriter.core.llm_handler import LLMHandler\n",
    "from aisurveywriter.core.text_embedding import load_embeddings\n",
    "from aisurveywriter.core.latex_handler import write_latex\n",
    "from aisurveywriter.utils import get_all_files_from_paths\n",
    "\n",
    "llm = LLMHandler(model=\"gemini-2.0-flash\", model_type=\"google\")\n",
    "embed = load_embeddings(model=\"Alibaba-NLP/gte-Qwen2-1.5B-instruct\", model_type=\"huggingface\")\n",
    "paper = PaperData.from_tex(\"../out/generated.tex\")\n",
    "fig = FigureExtractor(llm, embed, paper.subject, pdf_paths=get_all_files_from_paths(\"../refexamples\"), \n",
    "                      save_dir=\"./temp\", faiss_save_path=\"./temp/mpnetbasev2-imgfaiss\", local_faiss_path=\"./temp/mpnetbasev2-imgfaiss\", paper=paper, request_cooldown_sec=20)\n",
    "\n",
    "paper = fig(paper)\n",
    "write_latex(\"../templates/paper_template.tex\", paper)"
   ]
  },
  {
   "cell_type": "code",
   "execution_count": 3,
   "metadata": {},
   "outputs": [],
   "source": [
    "write_latex(\"../templates/paper_template.tex\", paper, \"test.tex\")"
   ]
  }
 ],
 "metadata": {
  "kernelspec": {
   "display_name": "llm",
   "language": "python",
   "name": "python3"
  },
  "language_info": {
   "codemirror_mode": {
    "name": "ipython",
    "version": 3
   },
   "file_extension": ".py",
   "mimetype": "text/x-python",
   "name": "python",
   "nbconvert_exporter": "python",
   "pygments_lexer": "ipython3",
   "version": "3.12.8"
  }
 },
 "nbformat": 4,
 "nbformat_minor": 2
}
