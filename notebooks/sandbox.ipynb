{
 "cells": [
  {
   "cell_type": "code",
   "execution_count": null,
   "metadata": {},
   "outputs": [],
   "source": [
    "from aisurveywriter.tasks import ReferenceExtractor\n",
    "from aisurveywriter.core.llm_handler import LLMHandler\n",
    "import aisurveywriter.core.file_handler as fh\n",
    "from aisurveywriter.utils import get_all_files_from_paths\n",
    "\n",
    "import os\n",
    "os.environ[\"GOOGLE_API_KEY\"]=fh.read_credentials(\"../credentials.yaml\")[\"google_key\"]\n",
    "\n",
    "paths = get_all_files_from_paths(\"../refexamples\")\n",
    "prompt = fh.read_yaml(\"../templates/prompt_config.yaml\")[\"reference_extract_prompt\"]\n",
    "ref = ReferenceExtractor(llm=LLMHandler(model=\"gemini-2.0-flash-exp\", model_type=\"google\", temperature=0.3),\n",
    "                         ref_paths=[\"../refexamples/ArigaK2023_ChemOfMat.pdf\"], prompt=prompt,\n",
    "                         raw_save_path=\"./raw.ref\", rawbib_save_path=\"./rawbib.bib\",\n",
    "                         bib_save_path=\"./final.bib\", cooldown_sec=50, batches=4)\n",
    "ref()"
   ]
  },
  {
   "cell_type": "code",
   "execution_count": null,
   "metadata": {},
   "outputs": [],
   "source": [
    "from aisurveywriter.core.paper import PaperData\n",
    "\n",
    "paper = PaperData.from_tex(\"../out/generated-rawscratch.tex\", \"test\")\n",
    "for sec in paper.sections:\n",
    "    print(sec.title)"
   ]
  }
 ],
 "metadata": {
  "kernelspec": {
   "display_name": "llm",
   "language": "python",
   "name": "python3"
  },
  "language_info": {
   "codemirror_mode": {
    "name": "ipython",
    "version": 3
   },
   "file_extension": ".py",
   "mimetype": "text/x-python",
   "name": "python",
   "nbconvert_exporter": "python",
   "pygments_lexer": "ipython3",
   "version": "3.12.8"
  }
 },
 "nbformat": 4,
 "nbformat_minor": 2
}
