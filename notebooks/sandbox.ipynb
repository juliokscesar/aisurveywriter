{
 "cells": [
  {
   "cell_type": "code",
   "execution_count": null,
   "metadata": {},
   "outputs": [],
   "source": [
    "# ENVIRONMENT\n",
    "\n",
    "from aisurveywriter.core.llm_handler import LLMHandler\n",
    "import aisurveywriter.core.file_handler as fh\n",
    "from aisurveywriter.utils import get_all_files_from_paths\n",
    "from aisurveywriter.core.pipeline import PaperPipeline\n",
    "from aisurveywriter.core.paper import PaperData\n",
    "import aisurveywriter.tasks as tks\n",
    "\n",
    "import os\n",
    "os.environ[\"GOOGLE_API_KEY\"]=fh.read_credentials(\"../credentials.yaml\")[\"google_key\"]\n",
    "\n",
    "# llm = LLMHandler(model=\"qwen2.5:14b\", model_type=\"ollama\", temperature=0.5)\n",
    "prompts = fh.read_yaml(\"../templates/prompt_config.yaml\")\n",
    "review = fh.read_yaml(\"../templates/review_config.yaml\")"
   ]
  },
  {
   "cell_type": "code",
   "execution_count": null,
   "metadata": {},
   "outputs": [],
   "source": [
    "from aisurveywriter.core.agent_rags import ImageData\n",
    "from pydantic.json import pydantic_encoder\n",
    "import json\n",
    "import os\n",
    "\n",
    "with open(\"../bib/figures_info.json\", \"r\", encoding=\"utf-8\") as f:\n",
    "    objs = json.load(f)\n",
    "figures = [ImageData(**obj) for obj in objs]\n",
    "\n",
    "to_delete = []\n",
    "for i, fig in enumerate(figures):\n",
    "    if not os.path.isfile(\"../bib/filteredimgs/\" + fig.basename):\n",
    "        to_delete.append(i)\n",
    "        print(\"Deleting\", fig.basename)\n",
    "\n",
    "for i in to_delete[::-1]:\n",
    "    figures.pop(i)\n",
    "\n",
    "for i in range(len(figures)):\n",
    "    figures[i].id = i\n",
    "\n",
    "with open(\"fitlered.json\", \"w\", encoding=\"utf-8\")  as f:\n",
    "    json.dump(figures, f, default=pydantic_encoder)"
   ]
  },
  {
   "cell_type": "code",
   "execution_count": null,
   "metadata": {},
   "outputs": [],
   "source": [
    "print(len(objs)-len(to_delete))"
   ]
  },
  {
   "cell_type": "code",
   "execution_count": null,
   "metadata": {},
   "outputs": [],
   "source": [
    "from aisurveywriter.core.agent_rags import AgentRAG\n",
    "from aisurveywriter.core.text_embedding import EmbeddingsHandler\n",
    "import json\n",
    "\n",
    "with open(\"../bib/figures_filtered.json\", \"r\", encoding=\"utf-8\") as f:\n",
    "    objs = json.load(f)\n",
    "figures = [ImageData(**obj) for obj in objs]\n",
    "\n",
    "rag = AgentRAG(EmbeddingsHandler(\"Snowflake/snowflake-arctic-embed-l-v2.0\", \"huggingface\"))\n",
    "rag.create_faiss(rag._embed, figures, save_path=\"../bib/snowflake-figures-rag.faiss\")"
   ]
  }
 ],
 "metadata": {
  "kernelspec": {
   "display_name": "llm",
   "language": "python",
   "name": "python3"
  },
  "language_info": {
   "codemirror_mode": {
    "name": "ipython",
    "version": 3
   },
   "file_extension": ".py",
   "mimetype": "text/x-python",
   "name": "python",
   "nbconvert_exporter": "python",
   "pygments_lexer": "ipython3",
   "version": "3.12.9"
  }
 },
 "nbformat": 4,
 "nbformat_minor": 2
}
