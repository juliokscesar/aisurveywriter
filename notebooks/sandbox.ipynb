{
 "cells": [
  {
   "cell_type": "code",
   "execution_count": null,
   "metadata": {},
   "outputs": [],
   "source": [
    "# ENVIRONMENT\n",
    "\n",
    "from aisurveywriter.tasks import ReferenceExtractor\n",
    "from aisurveywriter.core.llm_handler import LLMHandler\n",
    "import aisurveywriter.core.file_handler as fh\n",
    "from aisurveywriter.utils import get_all_files_from_paths\n",
    "from aisurveywriter.core.pipeline import PaperPipeline\n",
    "from aisurveywriter.core.paper import PaperData\n",
    "import aisurveywriter.tasks as tks\n",
    "\n",
    "import os\n",
    "os.environ[\"GOOGLE_API_KEY\"]=fh.read_credentials(\"../credentials.yaml\")[\"google_key\"]\n",
    "\n",
    "# llm = LLMHandler(model=\"qwen2.5:14b\", model_type=\"ollama\", temperature=0.5)\n",
    "prompts = fh.read_yaml(\"../templates/prompt_config.yaml\")\n",
    "review = fh.read_yaml(\"../templates/review_config.yaml\")"
   ]
  },
  {
   "cell_type": "code",
   "execution_count": null,
   "metadata": {},
   "outputs": [],
   "source": [
    "# EXTRACT PDF IMAGES\n",
    "from aisurveywriter.core.pdf_processor import PDFProcessor\n",
    "from aisurveywriter.utils import get_all_files_from_paths\n",
    "\n",
    "pdfs = PDFProcessor(get_all_files_from_paths(\"../refexamples\"))\n",
    "pdfs.extract_images(save_dir=\"../bib/imgs\")"
   ]
  },
  {
   "cell_type": "code",
   "execution_count": null,
   "metadata": {},
   "outputs": [],
   "source": [
    "from aisurveywriter.tasks.paper_faiss_ref import PaperFAISSReferencer, PaperData\n",
    "from aisurveywriter.core.text_embedding import load_embeddings\n",
    "from aisurveywriter.core.latex_handler import write_latex\n",
    "\n",
    "paper = PaperData.from_tex(\"../out/generated-rev.tex\", subject=\"Langmuir and Langmuir-Blodgett films\")\n",
    "paper.sections = paper.sections[1:]\n",
    "\n",
    "embed = load_embeddings(\"dunzhang/stella_en_1.5B_v5\", \"huggingface\")\n",
    "ref = PaperFAISSReferencer(embed, \"../bib/refextract-21papers.bib\", local_faissdb_path=\"temp/stella_en_1.5B_v5\", save_usedbib_path=\"temp/test.bib\", \n",
    "                           save_faiss_path=\"temp/stella_en_1.5B_v5\", max_per_section=60, max_per_sentence=1,confidence=0.7)\n",
    "\n",
    "paper = ref.reference(paper)\n",
    "write_latex(\"../templates/paper_template.tex\", paper, \"temp/test.tex\", bib_path=\"temp/test.bib\")"
   ]
  },
  {
   "cell_type": "code",
   "execution_count": null,
   "metadata": {},
   "outputs": [],
   "source": [
    "from aisurveywriter.tasks.figure_extractor import FigureExtractor, PaperData\n",
    "from aisurveywriter.core.llm_handler import LLMHandler\n",
    "from aisurveywriter.core.file_handler import read_yaml\n",
    "from aisurveywriter.core.text_embedding import load_embeddings\n",
    "from aisurveywriter.utils import get_all_files_from_paths\n",
    "\n",
    "llm = LLMHandler(model=\"gemini-2.0-flash\", model_type=\"google\")\n",
    "embed = load_embeddings(\"dunzhang/stella_en_1.5B_v5\", \"huggingface\")\n",
    "fig = FigureExtractor(llm, embed, \"Langmuir and Langmuir-Blodgett films\", pdf_paths=get_all_files_from_paths(\"../refexamples\", stem_sort=True), \n",
    "                      save_dir=\"../bib/allimgs\", faiss_save_path=\"../bib/stella_en_1.5B_v5-allimgfaiss\", local_faiss_path=None, paper=None, request_cooldown_sec=0)\n",
    "faiss = fig._imgdata_faiss(read_yaml(\"../bib/refextract-allimgdata.yaml\")[\"data\"], faiss_save_path=\"../bib/stella_en_1.5B_v5-allimgfaiss\")"
   ]
  },
  {
   "cell_type": "code",
   "execution_count": null,
   "metadata": {},
   "outputs": [],
   "source": [
    "from aisurveywriter.tasks import TexReviewer\n",
    "from aisurveywriter.core.paper import PaperData\n",
    "from aisurveywriter.core.latex_handler import write_latex\n",
    "import re\n",
    "\n",
    "paper = PaperData.from_tex(\"../useful-scripts/temp/reviwed-lastpaper.tex\", \"Langmuir and Langmuir-Blodgett films\", \"../useful-scripts/temp/reviwed-lastpaper.bib\")\n",
    "\n",
    "def clean_invalid_citations(tex_content: str, bib_path: str) -> str:\n",
    "    # Read .bib file content\n",
    "    with open(bib_path, 'r', encoding='utf-8') as f:\n",
    "        bib_content = f.read()\n",
    "    \n",
    "    # Regex to find all \\cite{...} commands\n",
    "    cite_pattern = re.compile(r'\\\\cite{([^}]+)}')\n",
    "    \n",
    "    def replace_invalid(match):\n",
    "        keys = match.group(1).split(',')\n",
    "        valid_keys = [key.strip() for key in keys if key.strip() in bib_content]\n",
    "        print(keys, valid_keys)\n",
    "        \n",
    "        if valid_keys:\n",
    "            return f\"\\\\cite{{{', '.join(valid_keys)}}}\"\n",
    "        else:\n",
    "            return ''  # Remove the entire \\cite command if no valid keys remain\n",
    "    \n",
    "    # Replace invalid keys\n",
    "    cleaned_tex = cite_pattern.sub(replace_invalid, tex_content)\n",
    "    \n",
    "    return cleaned_tex\n",
    "\n",
    "\n",
    "for section in paper.sections:\n",
    "    section.content = clean_invalid_citations(section.content, paper.bib_path)\n",
    "\n",
    "write_latex(\"../templates/paper_template.tex\", paper, \"./test.tex\")"
   ]
  }
 ],
 "metadata": {
  "kernelspec": {
   "display_name": "llm",
   "language": "python",
   "name": "python3"
  },
  "language_info": {
   "codemirror_mode": {
    "name": "ipython",
    "version": 3
   },
   "file_extension": ".py",
   "mimetype": "text/x-python",
   "name": "python",
   "nbconvert_exporter": "python",
   "pygments_lexer": "ipython3",
   "version": "3.12.8"
  }
 },
 "nbformat": 4,
 "nbformat_minor": 2
}
